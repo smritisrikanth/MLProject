{
 "cells": [
  {
   "cell_type": "code",
   "execution_count": 1,
   "metadata": {},
   "outputs": [
    {
     "name": "stderr",
     "output_type": "stream",
     "text": [
      "/Users/jacob/opt/miniconda3/envs/MLFinalProject/lib/python3.10/site-packages/tqdm/auto.py:22: TqdmWarning: IProgress not found. Please update jupyter and ipywidgets. See https://ipywidgets.readthedocs.io/en/stable/user_install.html\n",
      "  from .autonotebook import tqdm as notebook_tqdm\n"
     ]
    }
   ],
   "source": [
    "from checker_players.Runners.TrainRunner import TrainRunner \n",
    "from checker_players.Runners.TestRunner import TestRunner \n",
    "from checker_players.Players.RandomPlayer import RandomPlayer\n",
    "from checker_players.Players.MultilayerPerceptron import MultilayerPerceptron\n",
    "from checker_players.Checker_Environment.Board import Board\n",
    "from checker_players.Runners.Loggers.SimpleLogger import SimpleLogger \n",
    "from checker_players.Runners.Loggers.TrainLogger import TrainLogger \n",
    "from checker_players.Players.MinimaxPlayer import MinimaxPlayer\n",
    "from checker_players.Players.AlphaBeta import AlphaBeta"
   ]
  },
  {
   "cell_type": "code",
   "execution_count": 2,
   "metadata": {},
   "outputs": [],
   "source": [
    "board = Board()\n",
    "\n",
    "randomP1 = RandomPlayer(board.P1)\n",
    "minimaxP1 = MinimaxPlayer(board.P1)\n",
    "alphaBetaP1 = AlphaBeta(board.P1)\n",
    "perceptronP1 = MultilayerPerceptron(board.P1)\n",
    "\n",
    "randomP2 = RandomPlayer(board.P2)\n",
    "minimaxP2 = MinimaxPlayer(board.P2)\n",
    "alphaBetaP2 = AlphaBeta(board.P2)\n",
    "perceptronP2 = MultilayerPerceptron(board.P2)\n",
    "\n",
    "logger = TrainLogger()"
   ]
  },
  {
   "cell_type": "code",
   "execution_count": 13,
   "metadata": {},
   "outputs": [],
   "source": [
    "def win_history_to_percent(board, win_history):\n",
    "    won_gamesP1 = 0\n",
    "    won_gamesP2 = 0\n",
    "    for winner in win_history:\n",
    "        if winner == board.P1:\n",
    "            won_gamesP1 += 1\n",
    "        elif winner == board.P2:\n",
    "            won_gamesP2 += 1\n",
    "    return won_gamesP1 / (won_gamesP1 + won_gamesP2)"
   ]
  },
  {
   "cell_type": "code",
   "execution_count": 16,
   "metadata": {},
   "outputs": [],
   "source": [
    "results = {}\n",
    "for player1 in {randomP1, minimaxP1, alphaBetaP1, perceptronP1}:\n",
    "    for player2 in {randomP2, minimaxP2, alphaBetaP2, perceptronP2}:\n",
    "        numGames = 10\n",
    "        board.reset_board()\n",
    "        _, win_history = TestRunner(board, player1, player2, logger).play_games(numGames,100)\n",
    "        results[(player1,player2)] = win_history_to_percent(board, win_history)"
   ]
  },
  {
   "cell_type": "code",
   "execution_count": 17,
   "metadata": {},
   "outputs": [
    {
     "name": "stdout",
     "output_type": "stream",
     "text": [
      "(<checker_players.Players.MultilayerPerceptron.MultilayerPerceptron object at 0x7faa4e47ec80>, <checker_players.Players.AlphaBeta.AlphaBeta object at 0x7faa4e47f700>):0.28\n",
      "(<checker_players.Players.MultilayerPerceptron.MultilayerPerceptron object at 0x7faa4e47ec80>, <checker_players.Players.MinimaxPlayer.MinimaxPlayer object at 0x7faa4e47f6a0>):0.2692307692307692\n",
      "(<checker_players.Players.MultilayerPerceptron.MultilayerPerceptron object at 0x7faa4e47ec80>, <checker_players.Players.RandomPlayer.RandomPlayer object at 0x7faa4e47ead0>):0.25925925925925924\n",
      "(<checker_players.Players.MultilayerPerceptron.MultilayerPerceptron object at 0x7faa4e47ec80>, <checker_players.Players.MultilayerPerceptron.MultilayerPerceptron object at 0x7faa4e47f760>):0.25925925925925924\n",
      "(<checker_players.Players.MinimaxPlayer.MinimaxPlayer object at 0x7faa4e47ea40>, <checker_players.Players.AlphaBeta.AlphaBeta object at 0x7faa4e47f700>):0.25925925925925924\n",
      "(<checker_players.Players.MinimaxPlayer.MinimaxPlayer object at 0x7faa4e47ea40>, <checker_players.Players.MinimaxPlayer.MinimaxPlayer object at 0x7faa4e47f6a0>):0.25925925925925924\n",
      "(<checker_players.Players.MinimaxPlayer.MinimaxPlayer object at 0x7faa4e47ea40>, <checker_players.Players.RandomPlayer.RandomPlayer object at 0x7faa4e47ead0>):0.2857142857142857\n",
      "(<checker_players.Players.MinimaxPlayer.MinimaxPlayer object at 0x7faa4e47ea40>, <checker_players.Players.MultilayerPerceptron.MultilayerPerceptron object at 0x7faa4e47f760>):0.2857142857142857\n",
      "(<checker_players.Players.AlphaBeta.AlphaBeta object at 0x7faa4e47f1c0>, <checker_players.Players.AlphaBeta.AlphaBeta object at 0x7faa4e47f700>):0.2857142857142857\n",
      "(<checker_players.Players.AlphaBeta.AlphaBeta object at 0x7faa4e47f1c0>, <checker_players.Players.MinimaxPlayer.MinimaxPlayer object at 0x7faa4e47f6a0>):0.2857142857142857\n",
      "(<checker_players.Players.AlphaBeta.AlphaBeta object at 0x7faa4e47f1c0>, <checker_players.Players.RandomPlayer.RandomPlayer object at 0x7faa4e47ead0>):0.3103448275862069\n",
      "(<checker_players.Players.AlphaBeta.AlphaBeta object at 0x7faa4e47f1c0>, <checker_players.Players.MultilayerPerceptron.MultilayerPerceptron object at 0x7faa4e47f760>):0.3103448275862069\n",
      "(<checker_players.Players.RandomPlayer.RandomPlayer object at 0x7faa4e47fc70>, <checker_players.Players.AlphaBeta.AlphaBeta object at 0x7faa4e47f700>):0.3\n",
      "(<checker_players.Players.RandomPlayer.RandomPlayer object at 0x7faa4e47fc70>, <checker_players.Players.MinimaxPlayer.MinimaxPlayer object at 0x7faa4e47f6a0>):0.2903225806451613\n",
      "(<checker_players.Players.RandomPlayer.RandomPlayer object at 0x7faa4e47fc70>, <checker_players.Players.RandomPlayer.RandomPlayer object at 0x7faa4e47ead0>):0.3125\n",
      "(<checker_players.Players.RandomPlayer.RandomPlayer object at 0x7faa4e47fc70>, <checker_players.Players.MultilayerPerceptron.MultilayerPerceptron object at 0x7faa4e47f760>):0.30303030303030304\n"
     ]
    }
   ],
   "source": [
    "for key in results.keys():\n",
    "    print(str(key) + \":\" + str(results[key]))"
   ]
  }
 ],
 "metadata": {
  "kernelspec": {
   "display_name": "MLFinalProject",
   "language": "python",
   "name": "python3"
  },
  "language_info": {
   "codemirror_mode": {
    "name": "ipython",
    "version": 3
   },
   "file_extension": ".py",
   "mimetype": "text/x-python",
   "name": "python",
   "nbconvert_exporter": "python",
   "pygments_lexer": "ipython3",
   "version": "3.10.8 (main, Nov 24 2022, 08:09:04) [Clang 14.0.6 ]"
  },
  "orig_nbformat": 4,
  "vscode": {
   "interpreter": {
    "hash": "7d174f0bfa2bb58bc1890fa549ab973b368c4c60869bd4baa859e7b6f1fe1011"
   }
  }
 },
 "nbformat": 4,
 "nbformat_minor": 2
}
