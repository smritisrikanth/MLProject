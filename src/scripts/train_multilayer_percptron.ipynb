{
 "cells": [
  {
   "cell_type": "code",
   "execution_count": 1,
   "metadata": {},
   "outputs": [
    {
     "name": "stderr",
     "output_type": "stream",
     "text": [
      "/Users/jacob/opt/miniconda3/envs/MLFinalProject/lib/python3.10/site-packages/tqdm/auto.py:22: TqdmWarning: IProgress not found. Please update jupyter and ipywidgets. See https://ipywidgets.readthedocs.io/en/stable/user_install.html\n",
      "  from .autonotebook import tqdm as notebook_tqdm\n"
     ]
    }
   ],
   "source": [
    "from checker_players.Runners.TrainRunner import TrainRunner \n",
    "from checker_players.Runners.TestRunner import TestRunner \n",
    "from checker_players.Players.RandomPlayer import RandomPlayer\n",
    "from checker_players.Players.MultilayerPerceptron import MultilayerPerceptron\n",
    "from checker_players.Checker_Environment.Board import Board\n",
    "from checker_players.Runners.Loggers.SimpleLogger import SimpleLogger \n",
    "from checker_players.Runners.Loggers.TrainLogger import TrainLogger \n",
    "from checker_players.Players.MinimaxPlayer import MinimaxPlayer\n",
    "import torch\n",
    "import numpy as np"
   ]
  },
  {
   "cell_type": "code",
   "execution_count": 2,
   "metadata": {},
   "outputs": [],
   "source": [
    "board = Board()\n",
    "player1 = MultilayerPerceptron(board.P1)\n",
    "player2 = MultilayerPerceptron(board.P2)\n",
    "logger = TrainLogger()\n",
    "runner = TrainRunner(board, player1, player2, logger)"
   ]
  },
  {
   "cell_type": "code",
   "execution_count": 3,
   "metadata": {},
   "outputs": [
    {
     "name": "stdout",
     "output_type": "stream",
     "text": [
      "0\n",
      "100\n",
      "200\n",
      "300\n",
      "400\n",
      "500\n",
      "600\n",
      "700\n",
      "800\n",
      "900\n",
      "1000\n",
      "1100\n",
      "1200\n",
      "1300\n",
      "1400\n",
      "1500\n",
      "1600\n",
      "1700\n",
      "1800\n",
      "1900\n",
      "2000\n",
      "2100\n",
      "2200\n",
      "2300\n",
      "2400\n",
      "2500\n",
      "2600\n",
      "2700\n",
      "2800\n",
      "2900\n",
      "3000\n",
      "3100\n",
      "3200\n",
      "3300\n",
      "3400\n",
      "3500\n",
      "3600\n",
      "3700\n"
     ]
    },
    {
     "ename": "KeyboardInterrupt",
     "evalue": "",
     "output_type": "error",
     "traceback": [
      "\u001b[0;31m---------------------------------------------------------------------------\u001b[0m",
      "\u001b[0;31mKeyboardInterrupt\u001b[0m                         Traceback (most recent call last)",
      "Cell \u001b[0;32mIn [3], line 1\u001b[0m\n\u001b[0;32m----> 1\u001b[0m current_game_number, winner_history, player1WRHistory, player2WRHistory \u001b[39m=\u001b[39m runner\u001b[39m.\u001b[39;49mlearn_games(\u001b[39m10000\u001b[39;49m, \u001b[39m100\u001b[39;49m)\n",
      "File \u001b[0;32m~/Desktop/ML_Final/src/checker_players/Runners/TrainRunner.py:52\u001b[0m, in \u001b[0;36mTrainRunner.learn_games\u001b[0;34m(self, num_of_games, turn_cutoff)\u001b[0m\n\u001b[1;32m     50\u001b[0m     \u001b[39mself\u001b[39m\u001b[39m.\u001b[39mboard\u001b[39m.\u001b[39mmake_move(curr_player\u001b[39m.\u001b[39mplay(\u001b[39mself\u001b[39m\u001b[39m.\u001b[39mboard))\n\u001b[1;32m     51\u001b[0m     \u001b[39mself\u001b[39m\u001b[39m.\u001b[39mlogger\u001b[39m.\u001b[39mapply(\u001b[39mself\u001b[39m\u001b[39m.\u001b[39mboard, \u001b[39mself\u001b[39m\u001b[39m.\u001b[39mplayer1, \u001b[39mself\u001b[39m\u001b[39m.\u001b[39mplayer2)\n\u001b[0;32m---> 52\u001b[0m \u001b[39mself\u001b[39;49m\u001b[39m.\u001b[39;49mlogger\u001b[39m.\u001b[39;49mend(\u001b[39mself\u001b[39;49m\u001b[39m.\u001b[39;49mboard, \u001b[39mself\u001b[39;49m\u001b[39m.\u001b[39;49mplayer1, \u001b[39mself\u001b[39;49m\u001b[39m.\u001b[39;49mplayer2)\n\u001b[1;32m     53\u001b[0m \u001b[39mself\u001b[39m\u001b[39m.\u001b[39mplayer1\u001b[39m.\u001b[39mlearn(winner, board_states_p1)\n\u001b[1;32m     54\u001b[0m \u001b[39mself\u001b[39m\u001b[39m.\u001b[39mplayer2\u001b[39m.\u001b[39mlearn(winner, board_states_p2)\n",
      "File \u001b[0;32m~/Desktop/ML_Final/src/checker_players/Runners/Loggers/TrainLogger.py:51\u001b[0m, in \u001b[0;36mTrainLogger.end\u001b[0;34m(self, board, player1, player2)\u001b[0m\n\u001b[1;32m     49\u001b[0m \u001b[39mself\u001b[39m\u001b[39m.\u001b[39mcurrent_game_number \u001b[39m+\u001b[39m\u001b[39m=\u001b[39m \u001b[39m1\u001b[39m\n\u001b[1;32m     50\u001b[0m \u001b[39mif\u001b[39;00m \u001b[39mself\u001b[39m\u001b[39m.\u001b[39mcurrent_game_number \u001b[39m%\u001b[39m \u001b[39m100\u001b[39m \u001b[39m==\u001b[39m \u001b[39m0\u001b[39m:\n\u001b[0;32m---> 51\u001b[0m     player1WR, player2WR \u001b[39m=\u001b[39m evaluate_against_random_player(player1, player2)\n\u001b[1;32m     52\u001b[0m     \u001b[39mself\u001b[39m\u001b[39m.\u001b[39mplayer1WRHistory\u001b[39m.\u001b[39mappend(player1WR)\n\u001b[1;32m     53\u001b[0m     \u001b[39mself\u001b[39m\u001b[39m.\u001b[39mplayer2WRHistory\u001b[39m.\u001b[39mappend(player2WR)\n",
      "File \u001b[0;32m~/Desktop/ML_Final/src/checker_players/Runners/Loggers/TrainLogger.py:15\u001b[0m, in \u001b[0;36mevaluate_against_random_player\u001b[0;34m(player1, player2)\u001b[0m\n\u001b[1;32m     13\u001b[0m     random \u001b[39m=\u001b[39m RandomPlayer(board\u001b[39m.\u001b[39mP2)\n\u001b[1;32m     14\u001b[0m     runner \u001b[39m=\u001b[39m TestRunner(board, player1, random, logger)\n\u001b[0;32m---> 15\u001b[0m     winner, current_turn_number, board_state_history, board_time_per_move_history \u001b[39m=\u001b[39m runner\u001b[39m.\u001b[39;49mplay_single_game(\u001b[39m1000\u001b[39;49m)\n\u001b[1;32m     16\u001b[0m     win_rateP1 \u001b[39m=\u001b[39m win_rateP1 \u001b[39m+\u001b[39m \u001b[39m1\u001b[39m\u001b[39m/\u001b[39mnum_games \u001b[39mif\u001b[39;00m winner \u001b[39m==\u001b[39m board\u001b[39m.\u001b[39mP1 \u001b[39melse\u001b[39;00m win_rateP1\n\u001b[1;32m     18\u001b[0m win_rateP2 \u001b[39m=\u001b[39m \u001b[39m0\u001b[39m\n",
      "File \u001b[0;32m~/Desktop/ML_Final/src/checker_players/Runners/TestRunner.py:15\u001b[0m, in \u001b[0;36mTestRunner.play_single_game\u001b[0;34m(self, turn_cutoff)\u001b[0m\n\u001b[1;32m     13\u001b[0m         \u001b[39mbreak\u001b[39;00m\n\u001b[1;32m     14\u001b[0m     curr_player \u001b[39m=\u001b[39m \u001b[39mself\u001b[39m\u001b[39m.\u001b[39mplayer1 \u001b[39mif\u001b[39;00m \u001b[39mself\u001b[39m\u001b[39m.\u001b[39mboard\u001b[39m.\u001b[39mplayer_turn \u001b[39melse\u001b[39;00m \u001b[39mself\u001b[39m\u001b[39m.\u001b[39mplayer2\n\u001b[0;32m---> 15\u001b[0m     \u001b[39mself\u001b[39m\u001b[39m.\u001b[39mboard\u001b[39m.\u001b[39mmake_move(curr_player\u001b[39m.\u001b[39;49mplay(\u001b[39mself\u001b[39;49m\u001b[39m.\u001b[39;49mboard))\n\u001b[1;32m     16\u001b[0m     \u001b[39mself\u001b[39m\u001b[39m.\u001b[39mlogger\u001b[39m.\u001b[39mapply(\u001b[39mself\u001b[39m\u001b[39m.\u001b[39mboard, \u001b[39mself\u001b[39m\u001b[39m.\u001b[39mplayer1, \u001b[39mself\u001b[39m\u001b[39m.\u001b[39mplayer2)\n\u001b[1;32m     17\u001b[0m \u001b[39mself\u001b[39m\u001b[39m.\u001b[39mlogger\u001b[39m.\u001b[39mend(\u001b[39mself\u001b[39m\u001b[39m.\u001b[39mboard, \u001b[39mself\u001b[39m\u001b[39m.\u001b[39mplayer1, \u001b[39mself\u001b[39m\u001b[39m.\u001b[39mplayer2)\n",
      "File \u001b[0;32m~/Desktop/ML_Final/src/checker_players/Players/MultilayerPerceptron.py:49\u001b[0m, in \u001b[0;36mMultilayerPerceptron.play\u001b[0;34m(self, board)\u001b[0m\n\u001b[1;32m     46\u001b[0m best_evaluation \u001b[39m=\u001b[39m \u001b[39mfloat\u001b[39m(\u001b[39m\"\u001b[39m\u001b[39m-inf\u001b[39m\u001b[39m\"\u001b[39m)\n\u001b[1;32m     48\u001b[0m \u001b[39mfor\u001b[39;00m move \u001b[39min\u001b[39;00m board\u001b[39m.\u001b[39mget_possible_next_moves():\n\u001b[0;32m---> 49\u001b[0m     new_board \u001b[39m=\u001b[39m Board(board\u001b[39m.\u001b[39;49mspots, P1_turn\u001b[39m=\u001b[39;49m board\u001b[39m.\u001b[39;49mplayer_turn)\n\u001b[1;32m     50\u001b[0m     new_board\u001b[39m.\u001b[39mmake_move(move)\n\u001b[1;32m     51\u001b[0m     curr_evaluation \u001b[39m=\u001b[39m \u001b[39mself\u001b[39m\u001b[39m.\u001b[39mmlpEvaluator(\u001b[39mself\u001b[39m\u001b[39m.\u001b[39mboard_state_to_tensor(new_board\u001b[39m.\u001b[39mspots))[\u001b[39m0\u001b[39m]\n",
      "File \u001b[0;32m~/Desktop/ML_Final/src/checker_players/Checker_Environment/Board.py:36\u001b[0m, in \u001b[0;36mBoard.__init__\u001b[0;34m(self, board_state, P1_turn)\u001b[0m\n\u001b[1;32m     34\u001b[0m                 \u001b[39mself\u001b[39m\u001b[39m.\u001b[39mspots[x][y] \u001b[39m=\u001b[39m \u001b[39mself\u001b[39m\u001b[39m.\u001b[39mP2\n\u001b[1;32m     35\u001b[0m \u001b[39melse\u001b[39;00m:\n\u001b[0;32m---> 36\u001b[0m     \u001b[39mself\u001b[39m\u001b[39m.\u001b[39mspots \u001b[39m=\u001b[39m copy\u001b[39m.\u001b[39;49mdeepcopy(board_state)\n",
      "File \u001b[0;32m~/opt/miniconda3/envs/MLFinalProject/lib/python3.10/copy.py:146\u001b[0m, in \u001b[0;36mdeepcopy\u001b[0;34m(x, memo, _nil)\u001b[0m\n\u001b[1;32m    144\u001b[0m copier \u001b[39m=\u001b[39m _deepcopy_dispatch\u001b[39m.\u001b[39mget(\u001b[39mcls\u001b[39m)\n\u001b[1;32m    145\u001b[0m \u001b[39mif\u001b[39;00m copier \u001b[39mis\u001b[39;00m \u001b[39mnot\u001b[39;00m \u001b[39mNone\u001b[39;00m:\n\u001b[0;32m--> 146\u001b[0m     y \u001b[39m=\u001b[39m copier(x, memo)\n\u001b[1;32m    147\u001b[0m \u001b[39melse\u001b[39;00m:\n\u001b[1;32m    148\u001b[0m     \u001b[39mif\u001b[39;00m \u001b[39missubclass\u001b[39m(\u001b[39mcls\u001b[39m, \u001b[39mtype\u001b[39m):\n",
      "File \u001b[0;32m~/opt/miniconda3/envs/MLFinalProject/lib/python3.10/copy.py:206\u001b[0m, in \u001b[0;36m_deepcopy_list\u001b[0;34m(x, memo, deepcopy)\u001b[0m\n\u001b[1;32m    204\u001b[0m append \u001b[39m=\u001b[39m y\u001b[39m.\u001b[39mappend\n\u001b[1;32m    205\u001b[0m \u001b[39mfor\u001b[39;00m a \u001b[39min\u001b[39;00m x:\n\u001b[0;32m--> 206\u001b[0m     append(deepcopy(a, memo))\n\u001b[1;32m    207\u001b[0m \u001b[39mreturn\u001b[39;00m y\n",
      "File \u001b[0;32m~/opt/miniconda3/envs/MLFinalProject/lib/python3.10/copy.py:146\u001b[0m, in \u001b[0;36mdeepcopy\u001b[0;34m(x, memo, _nil)\u001b[0m\n\u001b[1;32m    144\u001b[0m copier \u001b[39m=\u001b[39m _deepcopy_dispatch\u001b[39m.\u001b[39mget(\u001b[39mcls\u001b[39m)\n\u001b[1;32m    145\u001b[0m \u001b[39mif\u001b[39;00m copier \u001b[39mis\u001b[39;00m \u001b[39mnot\u001b[39;00m \u001b[39mNone\u001b[39;00m:\n\u001b[0;32m--> 146\u001b[0m     y \u001b[39m=\u001b[39m copier(x, memo)\n\u001b[1;32m    147\u001b[0m \u001b[39melse\u001b[39;00m:\n\u001b[1;32m    148\u001b[0m     \u001b[39mif\u001b[39;00m \u001b[39missubclass\u001b[39m(\u001b[39mcls\u001b[39m, \u001b[39mtype\u001b[39m):\n",
      "File \u001b[0;32m~/opt/miniconda3/envs/MLFinalProject/lib/python3.10/copy.py:206\u001b[0m, in \u001b[0;36m_deepcopy_list\u001b[0;34m(x, memo, deepcopy)\u001b[0m\n\u001b[1;32m    204\u001b[0m append \u001b[39m=\u001b[39m y\u001b[39m.\u001b[39mappend\n\u001b[1;32m    205\u001b[0m \u001b[39mfor\u001b[39;00m a \u001b[39min\u001b[39;00m x:\n\u001b[0;32m--> 206\u001b[0m     append(deepcopy(a, memo))\n\u001b[1;32m    207\u001b[0m \u001b[39mreturn\u001b[39;00m y\n",
      "File \u001b[0;32m~/opt/miniconda3/envs/MLFinalProject/lib/python3.10/copy.py:138\u001b[0m, in \u001b[0;36mdeepcopy\u001b[0;34m(x, memo, _nil)\u001b[0m\n\u001b[1;32m    135\u001b[0m     memo \u001b[39m=\u001b[39m {}\n\u001b[1;32m    137\u001b[0m d \u001b[39m=\u001b[39m \u001b[39mid\u001b[39m(x)\n\u001b[0;32m--> 138\u001b[0m y \u001b[39m=\u001b[39m memo\u001b[39m.\u001b[39;49mget(d, _nil)\n\u001b[1;32m    139\u001b[0m \u001b[39mif\u001b[39;00m y \u001b[39mis\u001b[39;00m \u001b[39mnot\u001b[39;00m _nil:\n\u001b[1;32m    140\u001b[0m     \u001b[39mreturn\u001b[39;00m y\n",
      "\u001b[0;31mKeyboardInterrupt\u001b[0m: "
     ]
    }
   ],
   "source": [
    "current_game_number, winner_history, player1WRHistory, player2WRHistory = runner.learn_games(10000, 100)"
   ]
  },
  {
   "cell_type": "code",
   "execution_count": null,
   "metadata": {},
   "outputs": [
    {
     "name": "stdout",
     "output_type": "stream",
     "text": [
      "[0.34000000000000014, 0.34000000000000014, 0.34000000000000014]\n",
      "[0.5800000000000003, 0.5300000000000002, 0.5300000000000002]\n"
     ]
    }
   ],
   "source": [
    "print(player1WRHistory)\n",
    "print(player2WRHistory)"
   ]
  },
  {
   "cell_type": "code",
   "execution_count": null,
   "metadata": {},
   "outputs": [],
   "source": [
    "with open('/Users/jacob/Desktop/ML_Final/player1Progress.npy', 'wb') as f:\n",
    "    np.save(f, np.array(player1WRHistory))\n",
    "with open('/Users/jacob/Desktop/ML_Final/player2Progress.npy', 'wb') as f:\n",
    "    np.save(f, np.array(player2WRHistory))"
   ]
  },
  {
   "cell_type": "code",
   "execution_count": null,
   "metadata": {},
   "outputs": [
    {
     "name": "stdout",
     "output_type": "stream",
     "text": [
      "Done\n"
     ]
    }
   ],
   "source": [
    "torch.save({'model_state_dict': player1.mlpEvaluator.state_dict()}, \"/Users/jacob/Desktop/ML_Final/player1.pt\")\n",
    "torch.save({'model_state_dict': player2.mlpEvaluator.state_dict()}, \"/Users/jacob/Desktop/ML_Final/player2.pt\")\n",
    "with open(r'/Users/jacob/Desktop/ML_Final/winnerHistory.txt', 'w') as fp:\n",
    "    for item in winner_history:\n",
    "        fp.write(\"%s\\n\" % item)\n",
    "    print('Done')"
   ]
  }
 ],
 "metadata": {
  "kernelspec": {
   "display_name": "Python 3.10.8 ('MLFinalProject')",
   "language": "python",
   "name": "python3"
  },
  "language_info": {
   "codemirror_mode": {
    "name": "ipython",
    "version": 3
   },
   "file_extension": ".py",
   "mimetype": "text/x-python",
   "name": "python",
   "nbconvert_exporter": "python",
   "pygments_lexer": "ipython3",
   "version": "3.10.8"
  },
  "orig_nbformat": 4,
  "vscode": {
   "interpreter": {
    "hash": "7d174f0bfa2bb58bc1890fa549ab973b368c4c60869bd4baa859e7b6f1fe1011"
   }
  }
 },
 "nbformat": 4,
 "nbformat_minor": 2
}
