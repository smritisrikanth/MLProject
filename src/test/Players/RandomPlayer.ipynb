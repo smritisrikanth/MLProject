{
 "cells": [
  {
   "cell_type": "code",
   "execution_count": null,
   "metadata": {},
   "outputs": [],
   "source": [
    "from checker_players.Players.RandomPlayer import RandomPlayer\n",
    "from checker_players.Checker_Environment.Board import Board"
   ]
  },
  {
   "cell_type": "code",
   "execution_count": null,
   "metadata": {},
   "outputs": [],
   "source": [
    "player1 = RandomPlayer()\n",
    "player2 = RandomPlayer()\n",
    "board = Board()\n",
    "\n",
    "for turn in range(5):\n",
    "    if board.player_turn:\n",
    "        board.make_move(player1.play(board))\n",
    "    else:\n",
    "        board.make_move(player2.play(board))\n",
    "    board.print_board()"
   ]
  }
 ],
 "metadata": {
  "kernelspec": {
   "display_name": "Python 3.10.4 64-bit",
   "language": "python",
   "name": "python3"
  },
  "language_info": {
   "name": "python",
   "version": "3.10.4"
  },
  "orig_nbformat": 4,
  "vscode": {
   "interpreter": {
    "hash": "4b34b11c6053e38dccd0eefcf3f35bfced3deeb5af419c1cac31e159766119bd"
   }
  }
 },
 "nbformat": 4,
 "nbformat_minor": 2
}
