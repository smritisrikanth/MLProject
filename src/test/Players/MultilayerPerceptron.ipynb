{
 "cells": [
  {
   "cell_type": "code",
   "execution_count": 4,
   "metadata": {},
   "outputs": [],
   "source": [
    "from checker_players.Runners.TrainRunner import TrainRunner \n",
    "from checker_players.Runners.TestRunner import TestRunner \n",
    "from checker_players.Players.RandomPlayer import RandomPlayer\n",
    "from checker_players.Players.MultilayerPerceptron import MultilayerPerceptron\n",
    "from checker_players.Checker_Environment.Board import Board\n",
    "from checker_players.Runners.Loggers.SimpleLogger import SimpleLogger "
   ]
  },
  {
   "cell_type": "code",
   "execution_count": 5,
   "metadata": {},
   "outputs": [],
   "source": [
    "board = Board()\n",
    "player1 = MultilayerPerceptron(board.P1)\n",
    "player2 = RandomPlayer(board.P2)\n",
    "logger = SimpleLogger()\n",
    "runner = TrainRunner(board, player1, player2, logger)"
   ]
  },
  {
   "cell_type": "code",
   "execution_count": 6,
   "metadata": {},
   "outputs": [
    {
     "ename": "TypeError",
     "evalue": "must be real number, not map",
     "output_type": "error",
     "traceback": [
      "\u001b[0;31m---------------------------------------------------------------------------\u001b[0m",
      "\u001b[0;31mTypeError\u001b[0m                                 Traceback (most recent call last)",
      "Cell \u001b[0;32mIn [6], line 1\u001b[0m\n\u001b[0;32m----> 1\u001b[0m winner, current_turn_number, board_state_history, board_time_per_move_history \u001b[39m=\u001b[39m runner\u001b[39m.\u001b[39;49mlearn_games(\u001b[39m1000\u001b[39;49m, \u001b[39m100\u001b[39;49m)\n",
      "File \u001b[0;32m~/Desktop/ML_Final/src/checker_players/Runners/TrainRunner.py:48\u001b[0m, in \u001b[0;36mTrainRunner.learn_games\u001b[0;34m(self, num_of_games, turn_cutoff)\u001b[0m\n\u001b[1;32m     46\u001b[0m         board_states_p2\u001b[39m.\u001b[39mappend(\u001b[39mself\u001b[39m\u001b[39m.\u001b[39mboard\u001b[39m.\u001b[39mspots)\n\u001b[1;32m     47\u001b[0m     curr_player \u001b[39m=\u001b[39m \u001b[39mself\u001b[39m\u001b[39m.\u001b[39mplayer1 \u001b[39mif\u001b[39;00m \u001b[39mself\u001b[39m\u001b[39m.\u001b[39mboard\u001b[39m.\u001b[39mplayer_turn \u001b[39melse\u001b[39;00m \u001b[39mself\u001b[39m\u001b[39m.\u001b[39mplayer2\n\u001b[0;32m---> 48\u001b[0m     \u001b[39mself\u001b[39m\u001b[39m.\u001b[39mboard\u001b[39m.\u001b[39mmake_move(curr_player\u001b[39m.\u001b[39;49mplay(\u001b[39mself\u001b[39;49m\u001b[39m.\u001b[39;49mboard))\n\u001b[1;32m     49\u001b[0m     \u001b[39mself\u001b[39m\u001b[39m.\u001b[39mlogger\u001b[39m.\u001b[39mapply(\u001b[39mself\u001b[39m\u001b[39m.\u001b[39mboard, \u001b[39mself\u001b[39m\u001b[39m.\u001b[39mplayer1, \u001b[39mself\u001b[39m\u001b[39m.\u001b[39mplayer2)\n\u001b[1;32m     50\u001b[0m \u001b[39mself\u001b[39m\u001b[39m.\u001b[39mlogger\u001b[39m.\u001b[39mend()\n",
      "File \u001b[0;32m~/Desktop/ML_Final/src/checker_players/Players/MultilayerPerceptron.py:47\u001b[0m, in \u001b[0;36mMultilayerPerceptron.play\u001b[0;34m(self, board)\u001b[0m\n\u001b[1;32m     45\u001b[0m new_board \u001b[39m=\u001b[39m Board(board\u001b[39m.\u001b[39mspots, P1_turn\u001b[39m=\u001b[39m board\u001b[39m.\u001b[39mplayer_turn)\n\u001b[1;32m     46\u001b[0m new_board\u001b[39m.\u001b[39mmake_move(move)\n\u001b[0;32m---> 47\u001b[0m curr_evaluation \u001b[39m=\u001b[39m \u001b[39mself\u001b[39m\u001b[39m.\u001b[39mmlpEvaluator(\u001b[39mself\u001b[39;49m\u001b[39m.\u001b[39;49mboard_state_to_tensor(new_board\u001b[39m.\u001b[39;49mspots))[\u001b[39m0\u001b[39m]\n\u001b[1;32m     48\u001b[0m best_move \u001b[39m=\u001b[39m move \u001b[39mif\u001b[39;00m curr_evaluation \u001b[39m>\u001b[39m best_evaluation \u001b[39melse\u001b[39;00m best_move\n\u001b[1;32m     49\u001b[0m best_evaluation \u001b[39m=\u001b[39m curr_evaluation \u001b[39mif\u001b[39;00m curr_evaluation \u001b[39m>\u001b[39m best_evaluation \u001b[39melse\u001b[39;00m best_evaluation\n",
      "File \u001b[0;32m~/Desktop/ML_Final/src/checker_players/Players/MultilayerPerceptron.py:37\u001b[0m, in \u001b[0;36mMultilayerPerceptron.board_state_to_tensor\u001b[0;34m(self, board_state)\u001b[0m\n\u001b[1;32m     35\u001b[0m \u001b[39melse\u001b[39;00m:\n\u001b[1;32m     36\u001b[0m     board_state \u001b[39m=\u001b[39m \u001b[39mmap\u001b[39m(\u001b[39mlambda\u001b[39;00m row: \u001b[39mmap\u001b[39m(\u001b[39mlambda\u001b[39;00m x: \u001b[39m-\u001b[39m\u001b[39m1\u001b[39m\u001b[39m*\u001b[39mx, row),board_state)\n\u001b[0;32m---> 37\u001b[0m \u001b[39mreturn\u001b[39;00m torch\u001b[39m.\u001b[39;49mtensor([board_state], dtype \u001b[39m=\u001b[39;49m torch\u001b[39m.\u001b[39;49mfloat32)\n",
      "\u001b[0;31mTypeError\u001b[0m: must be real number, not map"
     ]
    }
   ],
   "source": [
    "winner, current_turn_number, board_state_history, board_time_per_move_history = runner.learn_games(1000, 100)"
   ]
  },
  {
   "cell_type": "code",
   "execution_count": null,
   "metadata": {},
   "outputs": [
    {
     "name": "stdout",
     "output_type": "stream",
     "text": [
      "2\n",
      "290200\n"
     ]
    }
   ],
   "source": [
    "print(winner)\n",
    "print(current_turn_number)"
   ]
  },
  {
   "cell_type": "code",
   "execution_count": null,
   "metadata": {},
   "outputs": [
    {
     "name": "stdout",
     "output_type": "stream",
     "text": [
      "0\n",
      "10\n",
      "20\n",
      "30\n",
      "40\n",
      "50\n",
      "60\n",
      "70\n",
      "80\n",
      "90\n"
     ]
    }
   ],
   "source": [
    "win_rate = 0\n",
    "num_games = 100\n",
    "for i in range(num_games):\n",
    "    if i % 10 == 0:\n",
    "        print(str(i))\n",
    "    board = Board()\n",
    "    logger = SimpleLogger()\n",
    "    runner = TestRunner(board, player1, player2, logger)\n",
    "    winner, current_turn_number, board_state_history, board_time_per_move_history = runner.play_single_game(10000)\n",
    "    win_rate = win_rate + 1/num_games if winner == board.P1 else win_rate"
   ]
  },
  {
   "cell_type": "code",
   "execution_count": null,
   "metadata": {},
   "outputs": [
    {
     "name": "stdout",
     "output_type": "stream",
     "text": [
      "0.7100000000000004\n"
     ]
    }
   ],
   "source": [
    "print(win_rate)"
   ]
  }
 ],
 "metadata": {
  "kernelspec": {
   "display_name": "Python 3.10.8 ('MLFinalProject')",
   "language": "python",
   "name": "python3"
  },
  "language_info": {
   "codemirror_mode": {
    "name": "ipython",
    "version": 3
   },
   "file_extension": ".py",
   "mimetype": "text/x-python",
   "name": "python",
   "nbconvert_exporter": "python",
   "pygments_lexer": "ipython3",
   "version": "3.10.8 (main, Nov 24 2022, 08:09:04) [Clang 14.0.6 ]"
  },
  "orig_nbformat": 4,
  "vscode": {
   "interpreter": {
    "hash": "7d174f0bfa2bb58bc1890fa549ab973b368c4c60869bd4baa859e7b6f1fe1011"
   }
  }
 },
 "nbformat": 4,
 "nbformat_minor": 2
}
