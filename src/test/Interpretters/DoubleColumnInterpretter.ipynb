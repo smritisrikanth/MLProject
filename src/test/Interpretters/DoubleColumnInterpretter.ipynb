{
 "cells": [
  {
   "cell_type": "code",
   "execution_count": 1,
   "metadata": {},
   "outputs": [],
   "source": [
    "from checker_players.Interpretters.DoubleColumnInterpretter import DoubleColumnInterpretter\n",
    "from checker_players.Checker_Environment.Board import Board"
   ]
  },
  {
   "cell_type": "code",
   "execution_count": 2,
   "metadata": {},
   "outputs": [
    {
     "name": "stdout",
     "output_type": "stream",
     "text": [
      "{1: [[0, 1], [1, 0], [1, 2], [2, 1], [3, 0], [3, 2], [4, 1], [5, 0], [5, 2], [6, 1], [7, 0], [7, 2]], 2: [[0, 5], [0, 7], [1, 6], [2, 5], [2, 7], [3, 6], [4, 5], [4, 7], [5, 6], [6, 5], [6, 7], [7, 6]]}\n",
      "|-----|-----|-----|-----|-----|-----|-----|-----|\n",
      "|     |  o  |     |  o  |     |  o  |     |  o  |  \n",
      "|-----|-----|-----|-----|-----|-----|-----|-----|\n",
      "|  o  |     |  o  |     |  o  |     |  o  |     |  \n",
      "|-----|-----|-----|-----|-----|-----|-----|-----|\n",
      "|     |  o  |     |  o  |     |  o  |     |  o  |  \n",
      "|-----|-----|-----|-----|-----|-----|-----|-----|\n",
      "|     |     |     |     |     |     |     |     |  \n",
      "|-----|-----|-----|-----|-----|-----|-----|-----|\n",
      "|     |     |     |     |     |     |     |     |  \n",
      "|-----|-----|-----|-----|-----|-----|-----|-----|\n",
      "|  x  |     |  x  |     |  x  |     |  x  |     |  \n",
      "|-----|-----|-----|-----|-----|-----|-----|-----|\n",
      "|     |  x  |     |  x  |     |  x  |     |  x  |  \n",
      "|-----|-----|-----|-----|-----|-----|-----|-----|\n",
      "|  x  |     |  x  |     |  x  |     |  x  |     |  \n",
      "|-----|-----|-----|-----|-----|-----|-----|-----|\n"
     ]
    }
   ],
   "source": [
    "board = Board()\n",
    "interpretter = DoubleColumnInterpretter()\n",
    "double_column = interpretter.interpret(board)\n",
    "print(double_column)\n",
    "board.print_board()"
   ]
  }
 ],
 "metadata": {
  "kernelspec": {
   "display_name": "Python 3.10.8 ('MLFinalProject')",
   "language": "python",
   "name": "python3"
  },
  "language_info": {
   "codemirror_mode": {
    "name": "ipython",
    "version": 3
   },
   "file_extension": ".py",
   "mimetype": "text/x-python",
   "name": "python",
   "nbconvert_exporter": "python",
   "pygments_lexer": "ipython3",
   "version": "3.10.8"
  },
  "orig_nbformat": 4,
  "vscode": {
   "interpreter": {
    "hash": "7d174f0bfa2bb58bc1890fa549ab973b368c4c60869bd4baa859e7b6f1fe1011"
   }
  }
 },
 "nbformat": 4,
 "nbformat_minor": 2
}
