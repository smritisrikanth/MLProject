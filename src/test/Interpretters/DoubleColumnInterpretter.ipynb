{
 "cells": [
  {
   "cell_type": "code",
   "execution_count": 2,
   "metadata": {},
   "outputs": [
    {
     "ename": "ModuleNotFoundError",
     "evalue": "No module named 'checker_players'",
     "output_type": "error",
     "traceback": [
      "\u001b[1;31m---------------------------------------------------------------------------\u001b[0m",
      "\u001b[1;31mModuleNotFoundError\u001b[0m                       Traceback (most recent call last)",
      "Cell \u001b[1;32mIn [2], line 1\u001b[0m\n\u001b[1;32m----> 1\u001b[0m \u001b[39mfrom\u001b[39;00m \u001b[39mchecker_players\u001b[39;00m\u001b[39m.\u001b[39;00m\u001b[39mInterpretters\u001b[39;00m\u001b[39m.\u001b[39;00m\u001b[39mDoubleColumnInterpretter\u001b[39;00m \u001b[39mimport\u001b[39;00m DoubleColumnInterpretter\n\u001b[0;32m      2\u001b[0m \u001b[39mfrom\u001b[39;00m \u001b[39mchecker_players\u001b[39;00m\u001b[39m.\u001b[39;00m\u001b[39mChecker_Environment\u001b[39;00m\u001b[39m.\u001b[39;00m\u001b[39mBoard\u001b[39;00m \u001b[39mimport\u001b[39;00m Board\n",
      "\u001b[1;31mModuleNotFoundError\u001b[0m: No module named 'checker_players'"
     ]
    }
   ],
   "source": [
    "from checker_players.Interpretters.DoubleColumnInterpretter import DoubleColumnInterpretter\n",
    "from checker_players.Checker_Environment.Board import Board"
   ]
  },
  {
   "cell_type": "code",
   "execution_count": 1,
   "metadata": {},
   "outputs": [
    {
     "ename": "NameError",
     "evalue": "name 'Board' is not defined",
     "output_type": "error",
     "traceback": [
      "\u001b[1;31m---------------------------------------------------------------------------\u001b[0m",
      "\u001b[1;31mNameError\u001b[0m                                 Traceback (most recent call last)",
      "Cell \u001b[1;32mIn [1], line 1\u001b[0m\n\u001b[1;32m----> 1\u001b[0m board \u001b[39m=\u001b[39m Board()\n\u001b[0;32m      2\u001b[0m interpretter \u001b[39m=\u001b[39m DoubleColumnInterpretter()\n\u001b[0;32m      3\u001b[0m double_column \u001b[39m=\u001b[39m interpretter(board)\n",
      "\u001b[1;31mNameError\u001b[0m: name 'Board' is not defined"
     ]
    }
   ],
   "source": [
    "board = Board()\n",
    "interpretter = DoubleColumnInterpretter()\n",
    "double_column = interpretter(board)\n",
    "print(double_column)\n",
    "board.print_board()"
   ]
  }
 ],
 "metadata": {
  "kernelspec": {
   "display_name": "Python 3.10.4 64-bit",
   "language": "python",
   "name": "python3"
  },
  "language_info": {
   "codemirror_mode": {
    "name": "ipython",
    "version": 3
   },
   "file_extension": ".py",
   "mimetype": "text/x-python",
   "name": "python",
   "nbconvert_exporter": "python",
   "pygments_lexer": "ipython3",
   "version": "3.10.4"
  },
  "orig_nbformat": 4,
  "vscode": {
   "interpreter": {
    "hash": "4b34b11c6053e38dccd0eefcf3f35bfced3deeb5af419c1cac31e159766119bd"
   }
  }
 },
 "nbformat": 4,
 "nbformat_minor": 2
}
